#!/usr/bin/env python
# coding: utf-8

# Exercise 2: Create markdown cell with title of the notebook

# # Data Science Tools and Ecosystem

# Exercise 3 - Create a markdown cell for an introduction

# In this notebook, Data Science Tools and Ecosystem are summarised.

# Exercise 10 - Insert a markdown cell to list Objectives

# **OBJECTIVES:**
# * List examples of languages, libraries and tools used in Data Science
# * Share your Jupyter Notebook publicly on GitHub
# * Evaluate notebooks submitted by your peers using the provided rubric

# Exercise 4 - Create a markdown cell to list data science languages

# Some of the popular languages that Data Scientists use are:
# 1. Python
# 2. R
# 3. C++

# Exercise 5 - Create a markdown cell to list data science libraries

# Some of the commonly used libraries used by Data Scientists include:
# 1. Tensorflow
# 2. Numpy
# 3. Pandas
# 4. SciPy

# Exercise 6 - Create a markdown cell with a table of Data Science tools

# |Data Science Tools|
# |------------------|
# |Jupyter Notebook|
# |VS Code|
# |R studio|

# Exercise 7 - Create a markdown cell introducing arithmetic expression examples

# ### Below are a few examples of evaluating arithmetic expressions in Python

# Exercise 8 - Create a code cell to multiply and add numbers

# This is a simple arithmetic expression to multiply then add integers
# (3*4)+5

# In[1]:


(3*4)+5


# Exercise 9 - Create a code cell to convert minutes to hours

# This will convert 200 minutes to hours by diving by 60

# In[2]:


200/60


# Exercise 11 - Create a markdown cell to indicate the Author's name

# ## Author
# Van Nam Hoang
